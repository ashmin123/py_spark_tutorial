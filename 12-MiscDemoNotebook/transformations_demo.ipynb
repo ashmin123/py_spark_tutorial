{
 "cells": [
  {
   "cell_type": "code",
   "execution_count": 32,
   "metadata": {},
   "outputs": [],
   "source": [
    "import findspark\n",
    "findspark.init()\n",
    "from pyspark.sql import SparkSession\n",
    "from pyspark.sql.functions import col, monotonically_increasing_id, when, expr, to_date\n",
    "from pyspark.sql.types import *"
   ]
  },
  {
   "cell_type": "code",
   "execution_count": 3,
   "metadata": {},
   "outputs": [],
   "source": [
    "if __name__ == \"__main__\":\n",
    "    spark = SparkSession \\\n",
    "        .builder \\\n",
    "        .appName(\"Misc Demo\") \\\n",
    "        .master(\"local[2]\") \\\n",
    "        .getOrCreate()"
   ]
  },
  {
   "cell_type": "code",
   "execution_count": 4,
   "metadata": {},
   "outputs": [],
   "source": [
    "data_list = [(\"Ravi\", \"28\", \"1\", \"2002\"),\n",
    "                 (\"Abdul\", \"23\", \"5\", \"81\"),  # 1981\n",
    "                 (\"John\", \"12\", \"12\", \"6\"),  # 2006\n",
    "                 (\"Rosy\", \"7\", \"8\", \"63\"),  # 1963\n",
    "                 (\"Abdul\", \"23\", \"5\", \"81\")]  # 1981"
   ]
  },
  {
   "cell_type": "code",
   "execution_count": 6,
   "metadata": {},
   "outputs": [
    {
     "name": "stdout",
     "output_type": "stream",
     "text": [
      "+-----+---+-----+----+\n",
      "| name|day|month|year|\n",
      "+-----+---+-----+----+\n",
      "| Ravi| 28|    1|2002|\n",
      "|Abdul| 23|    5|  81|\n",
      "| John| 12|   12|   6|\n",
      "| Rosy|  7|    8|  63|\n",
      "|Abdul| 23|    5|  81|\n",
      "+-----+---+-----+----+\n",
      "\n"
     ]
    }
   ],
   "source": [
    "columns=[\"name\", \"day\", \"month\", \"year\"]\n",
    "raw_df = spark.createDataFrame(data_list,columns)\n",
    "raw_df.show()"
   ]
  },
  {
   "cell_type": "code",
   "execution_count": 7,
   "metadata": {},
   "outputs": [
    {
     "name": "stdout",
     "output_type": "stream",
     "text": [
      "+-----+---+-----+----+\n",
      "| name|day|month|year|\n",
      "+-----+---+-----+----+\n",
      "| John| 12|   12|   6|\n",
      "| Ravi| 28|    1|2002|\n",
      "| Rosy|  7|    8|  63|\n",
      "|Abdul| 23|    5|  81|\n",
      "|Abdul| 23|    5|  81|\n",
      "+-----+---+-----+----+\n",
      "\n"
     ]
    }
   ],
   "source": [
    "raw_df = spark.createDataFrame(data_list).toDF(\"name\", \"day\", \"month\", \"year\").repartition(3)\n",
    "raw_df.show()"
   ]
  },
  {
   "cell_type": "code",
   "execution_count": 8,
   "metadata": {},
   "outputs": [
    {
     "name": "stdout",
     "output_type": "stream",
     "text": [
      "root\n",
      " |-- name: string (nullable = true)\n",
      " |-- day: string (nullable = true)\n",
      " |-- month: string (nullable = true)\n",
      " |-- year: string (nullable = true)\n",
      "\n"
     ]
    }
   ],
   "source": [
    "raw_df.printSchema()"
   ]
  },
  {
   "cell_type": "code",
   "execution_count": 10,
   "metadata": {},
   "outputs": [
    {
     "name": "stdout",
     "output_type": "stream",
     "text": [
      "+-----+---+-----+----+-----------+\n",
      "| name|day|month|year|         id|\n",
      "+-----+---+-----+----+-----------+\n",
      "| John| 12|   12|   6|          0|\n",
      "| Ravi| 28|    1|2002| 8589934592|\n",
      "| Rosy|  7|    8|  63| 8589934593|\n",
      "|Abdul| 23|    5|  81|17179869184|\n",
      "|Abdul| 23|    5|  81|17179869185|\n",
      "+-----+---+-----+----+-----------+\n",
      "\n"
     ]
    }
   ],
   "source": [
    "df1=raw_df.withColumn(\"id\",monotonically_increasing_id())\n",
    "df1.show()"
   ]
  },
  {
   "cell_type": "code",
   "execution_count": 22,
   "metadata": {},
   "outputs": [
    {
     "name": "stdout",
     "output_type": "stream",
     "text": [
      "+-----+---+-----+------+-----------+\n",
      "| name|day|month|  year|         id|\n",
      "+-----+---+-----+------+-----------+\n",
      "| John| 12|   12|2006.0|          0|\n",
      "| Ravi| 28|    1|  2002| 8589934592|\n",
      "| Rosy|  7|    8|1963.0| 8589934593|\n",
      "|Abdul| 23|    5|1981.0|17179869184|\n",
      "|Abdul| 23|    5|1981.0|17179869185|\n",
      "+-----+---+-----+------+-----------+\n",
      "\n"
     ]
    }
   ],
   "source": [
    "df2=df1.withColumn(\"year\", expr(\"\"\"\n",
    "                                case when year < 21 then year + 2000\n",
    "                                when year < 100 then year + 1900 \n",
    "                                else year \n",
    "                                  end \n",
    "                               \"\"\"))\n",
    "df2.show()"
   ]
  },
  {
   "cell_type": "code",
   "execution_count": 24,
   "metadata": {},
   "outputs": [
    {
     "name": "stdout",
     "output_type": "stream",
     "text": [
      "+-----+---+-----+----+-----------+\n",
      "| name|day|month|year|         id|\n",
      "+-----+---+-----+----+-----------+\n",
      "| John| 12|   12|2006|          0|\n",
      "| Ravi| 28|    1|2002| 8589934592|\n",
      "| Rosy|  7|    8|1963| 8589934593|\n",
      "|Abdul| 23|    5|1981|17179869184|\n",
      "|Abdul| 23|    5|1981|17179869185|\n",
      "+-----+---+-----+----+-----------+\n",
      "\n"
     ]
    }
   ],
   "source": [
    "df3=df1.withColumn(\"year\", expr(\"\"\"\n",
    "                                case when year < 21 then cast(year as int) + 2000\n",
    "                                when year < 100 then cast(year as int) + 1900 \n",
    "                                else year \n",
    "                                end \n",
    "                               \"\"\")) #Inline Cast\n",
    "df3.show()"
   ]
  },
  {
   "cell_type": "code",
   "execution_count": 25,
   "metadata": {},
   "outputs": [
    {
     "name": "stdout",
     "output_type": "stream",
     "text": [
      "+-----+---+-----+----+-----------+\n",
      "| name|day|month|year|         id|\n",
      "+-----+---+-----+----+-----------+\n",
      "| John| 12|   12|2006|          0|\n",
      "| Ravi| 28|    1|2002| 8589934592|\n",
      "| Rosy|  7|    8|1963| 8589934593|\n",
      "|Abdul| 23|    5|1981|17179869184|\n",
      "|Abdul| 23|    5|1981|17179869185|\n",
      "+-----+---+-----+----+-----------+\n",
      "\n",
      "root\n",
      " |-- name: string (nullable = true)\n",
      " |-- day: string (nullable = true)\n",
      " |-- month: string (nullable = true)\n",
      " |-- year: integer (nullable = true)\n",
      " |-- id: long (nullable = false)\n",
      "\n"
     ]
    }
   ],
   "source": [
    "df4=df1.withColumn(\"year\", expr(\"\"\"\n",
    "                                case when year < 21 then year + 2000\n",
    "                                when year < 100 then year + 1900 \n",
    "                                else year \n",
    "                                  end \n",
    "                               \"\"\").cast(IntegerType())) #Change the Schema\n",
    "df4.show()\n",
    "df4.printSchema()"
   ]
  },
  {
   "cell_type": "code",
   "execution_count": 27,
   "metadata": {},
   "outputs": [
    {
     "name": "stdout",
     "output_type": "stream",
     "text": [
      "+-----+---+-----+----+-----------+\n",
      "| name|day|month|year|         id|\n",
      "+-----+---+-----+----+-----------+\n",
      "| John| 12|   12|2006|          0|\n",
      "| Ravi| 28|    1|2002| 8589934592|\n",
      "| Rosy|  7|    8|1963| 8589934593|\n",
      "|Abdul| 23|    5|1981|17179869184|\n",
      "|Abdul| 23|    5|1981|17179869185|\n",
      "+-----+---+-----+----+-----------+\n",
      "\n"
     ]
    }
   ],
   "source": [
    "df5=df1.withColumn(\"day\",col(\"day\").cast(IntegerType()))\\\n",
    "       .withColumn(\"month\",col(\"month\").cast(IntegerType()))\\\n",
    "       .withColumn(\"year\",col(\"year\").cast(IntegerType()))\n",
    "\n",
    "df6=df5.withColumn(\"year\", expr(\"\"\"\n",
    "                                case when year < 21 then year + 2000\n",
    "                                when year < 100 then year + 1900 \n",
    "                                else year \n",
    "                                  end \n",
    "                               \"\"\"))\n",
    "df6.show()"
   ]
  },
  {
   "cell_type": "code",
   "execution_count": 30,
   "metadata": {},
   "outputs": [
    {
     "name": "stdout",
     "output_type": "stream",
     "text": [
      "+-----+---+-----+----+-----------+\n",
      "| name|day|month|year|         id|\n",
      "+-----+---+-----+----+-----------+\n",
      "| John| 12|   12|2006|          0|\n",
      "| Ravi| 28|    1|2002| 8589934592|\n",
      "| Rosy|  7|    8|1963| 8589934593|\n",
      "|Abdul| 23|    5|1981|17179869184|\n",
      "|Abdul| 23|    5|1981|17179869185|\n",
      "+-----+---+-----+----+-----------+\n",
      "\n"
     ]
    }
   ],
   "source": [
    "df7=df5.withColumn(\"year\",\\\n",
    "                 when(col(\"year\") < 21, col(\"year\") + 2000)\\\n",
    "                 .when(col(\"year\") < 100, col(\"year\") + 1900)\\\n",
    "                 .otherwise(col(\"year\")))\n",
    "df7.show()"
   ]
  },
  {
   "cell_type": "code",
   "execution_count": 39,
   "metadata": {},
   "outputs": [
    {
     "name": "stdout",
     "output_type": "stream",
     "text": [
      "+-----+-----------+----------+\n",
      "| name|         id|       dob|\n",
      "+-----+-----------+----------+\n",
      "| Rosy| 8589934593|1963-08-07|\n",
      "|Abdul|17179869184|1981-05-23|\n",
      "| Ravi| 8589934592|2002-01-28|\n",
      "| John|          0|2006-12-12|\n",
      "+-----+-----------+----------+\n",
      "\n"
     ]
    }
   ],
   "source": [
    "df8=df7.withColumn(\"dob\",to_date(expr(\"concat(day,'/',month,'/',year)\"),'d/M/y'))\\\n",
    "       .drop(\"day\",\"month\",\"year\")\\\n",
    "       .dropDuplicates([\"name\",\"dob\"])\\\n",
    "       .sort(expr(\"dob desc\"))\n",
    "df8.show()"
   ]
  },
  {
   "cell_type": "code",
   "execution_count": null,
   "metadata": {},
   "outputs": [],
   "source": []
  }
 ],
 "metadata": {
  "kernelspec": {
   "display_name": "Python 3",
   "language": "python",
   "name": "python3"
  },
  "language_info": {
   "codemirror_mode": {
    "name": "ipython",
    "version": 3
   },
   "file_extension": ".py",
   "mimetype": "text/x-python",
   "name": "python",
   "nbconvert_exporter": "python",
   "pygments_lexer": "ipython3",
   "version": "3.7.4"
  }
 },
 "nbformat": 4,
 "nbformat_minor": 2
}
